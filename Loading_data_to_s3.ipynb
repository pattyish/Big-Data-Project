{
 "cells": [
  {
   "cell_type": "code",
   "execution_count": null,
   "metadata": {},
   "outputs": [],
   "source": [
    "\"\"\"\n",
    "Code Below are Python code that used to load the data from Source using Boto3 to S3 buckets.\n",
    "One dataset was very large to and using API to load it was Taking Long time that downloading it\n",
    "Temporary and delete it after is stored on S3 Buckets.\n",
    "\"\"\""
   ]
  },
  {
   "cell_type": "code",
   "execution_count": 2,
   "id": "8fd3c97b",
   "metadata": {},
   "outputs": [
    {
     "name": "stdout",
     "output_type": "stream",
     "text": [
      "Requirement already satisfied: boto3 in /opt/conda/lib/python3.9/site-packages (1.28.17)\n",
      "Collecting botocore<1.32.0,>=1.31.17 (from boto3)\n",
      "  Obtaining dependency information for botocore<1.32.0,>=1.31.17 from https://files.pythonhosted.org/packages/3d/4c/8f97418ad082458a0d8e6d10434227d54edc6166e3197cee6ecf7b0eeec0/botocore-1.31.85-py3-none-any.whl.metadata\n",
      "  Downloading botocore-1.31.85-py3-none-any.whl.metadata (6.1 kB)\n",
      "Requirement already satisfied: jmespath<2.0.0,>=0.7.1 in /opt/conda/lib/python3.9/site-packages (from boto3) (0.10.0)\n",
      "Requirement already satisfied: s3transfer<0.7.0,>=0.6.0 in /opt/conda/lib/python3.9/site-packages (from boto3) (0.6.2)\n",
      "Requirement already satisfied: python-dateutil<3.0.0,>=2.1 in /opt/conda/lib/python3.9/site-packages (from botocore<1.32.0,>=1.31.17->boto3) (2.8.2)\n",
      "Requirement already satisfied: urllib3<1.27,>=1.25.4 in /opt/conda/lib/python3.9/site-packages (from botocore<1.32.0,>=1.31.17->boto3) (1.26.16)\n",
      "Requirement already satisfied: six>=1.5 in /opt/conda/lib/python3.9/site-packages (from python-dateutil<3.0.0,>=2.1->botocore<1.32.0,>=1.31.17->boto3) (1.16.0)\n",
      "Downloading botocore-1.31.85-py3-none-any.whl (11.3 MB)\n",
      "\u001b[2K   \u001b[90m━━━━━━━━━━━━━━━━━━━━━━━━━━━━━━━━━━━━━━━━\u001b[0m \u001b[32m11.3/11.3 MB\u001b[0m \u001b[31m40.1 MB/s\u001b[0m eta \u001b[36m0:00:00\u001b[0m00:01\u001b[0m00:01\u001b[0m\n",
      "\u001b[?25hInstalling collected packages: botocore\n",
      "  Attempting uninstall: botocore\n",
      "    Found existing installation: botocore 1.20.106\n",
      "    Uninstalling botocore-1.20.106:\n",
      "      Successfully uninstalled botocore-1.20.106\n",
      "\u001b[31mERROR: pip's dependency resolver does not currently take into account all the packages that are installed. This behaviour is the source of the following dependency conflicts.\n",
      "aiobotocore 2.6.0 requires botocore<1.31.18,>=1.31.17, but you have botocore 1.31.85 which is incompatible.\u001b[0m\u001b[31m\n",
      "\u001b[0mSuccessfully installed botocore-1.31.85\n"
     ]
    }
   ],
   "source": [
    "!pip install boto3"
   ]
  },
  {
   "cell_type": "code",
   "execution_count": 3,
   "id": "5be61912",
   "metadata": {},
   "outputs": [
    {
     "name": "stdout",
     "output_type": "stream",
     "text": [
      "--2023-11-17 01:40:56--  https://data.cityofchicago.org/api/views/ijzp-q8t2/rows.csv?accessType=DOWNLOAD\n",
      "Resolving data.cityofchicago.org (data.cityofchicago.org)... 52.206.140.199, 52.206.140.205, 52.206.68.26\n",
      "Connecting to data.cityofchicago.org (data.cityofchicago.org)|52.206.140.199|:443... connected.\n",
      "HTTP request sent, awaiting response... 200 OK\n",
      "Length: unspecified [text/csv]\n",
      "Saving to: ‘rows.csv?accessType=DOWNLOAD’\n",
      "\n",
      "rows.csv?accessType     [       <=>          ]   1.75G  2.95MB/s    in 10m 25s \n",
      "\n",
      "2023-11-17 01:51:21 (2.86 MB/s) - ‘rows.csv?accessType=DOWNLOAD’ saved [1873968402]\n",
      "\n"
     ]
    }
   ],
   "source": [
    "!wget https://data.cityofchicago.org/api/views/ijzp-q8t2/rows.csv?accessType=DOWNLOAD"
   ]
  },
  {
   "cell_type": "code",
   "execution_count": 4,
   "id": "86ccd263",
   "metadata": {},
   "outputs": [],
   "source": [
    "!mv rows.csv\\?accessType\\=DOWNLOAD crime_report.csv"
   ]
  },
  {
   "cell_type": "code",
   "execution_count": 5,
   "id": "1d78ac34",
   "metadata": {},
   "outputs": [],
   "source": [
    "import boto3"
   ]
  },
  {
   "cell_type": "code",
   "execution_count": 6,
   "id": "3fed14b7",
   "metadata": {},
   "outputs": [],
   "source": [
    "# Create an S3 client\n",
    "s3 = boto3.client('s3')"
   ]
  },
  {
   "cell_type": "code",
   "execution_count": 7,
   "id": "76752949",
   "metadata": {},
   "outputs": [
    {
     "name": "stdout",
     "output_type": "stream",
     "text": [
      "File crime_report.csv uploaded to S3 as crime_report.csv\n"
     ]
    }
   ],
   "source": [
    "bucket_name = 'final-project-dataset-group6'\n",
    "local_file_path = 'crime_report.csv'\n",
    "s3_key = 'crime_report.csv'\n",
    "try:\n",
    "    s3.upload_file(local_file_path, bucket_name, s3_key)\n",
    "    print(f\"File {local_file_path} uploaded to S3 as {s3_key}\")\n",
    "except Exception as e:\n",
    "    print(f\"Error uploading file to S3: {str(e)}\")\n"
   ]
  },
  {
   "cell_type": "code",
   "execution_count": 1,
   "id": "4411fca2",
   "metadata": {},
   "outputs": [
    {
     "name": "stderr",
     "output_type": "stream",
     "text": [
      "'rm' is not recognized as an internal or external command,\n",
      "operable program or batch file.\n"
     ]
    },
    {
     "ename": "",
     "evalue": "",
     "output_type": "error",
     "traceback": [
      "\u001b[1;31mThe Kernel crashed while executing code in the the current cell or a previous cell. Please review the code in the cell(s) to identify a possible cause of the failure. Click <a href='https://aka.ms/vscodeJupyterKernelCrash'>here</a> for more info. View Jupyter <a href='command:jupyter.viewOutput'>log</a> for further details."
     ]
    }
   ],
   "source": [
    "!rm crime_report.csv"
   ]
  },
  {
   "cell_type": "code",
   "execution_count": null,
   "metadata": {},
   "outputs": [],
   "source": [
    "import pandas as pd\n",
    "import requests"
   ]
  },
  {
   "cell_type": "code",
   "execution_count": null,
   "metadata": {},
   "outputs": [],
   "source": [
    "# Python function that get dataset in form of json from API\n",
    "def fetch_data_to_dataframe(url):\n",
    "    response = requests.get(url)\n",
    "    if response.status_code == 200:\n",
    "        data = response.json()\n",
    "        df = pd.DataFrame(data)\n",
    "        return df\n",
    "    else:\n",
    "        print(\"Failed to fetch data:\", response.status_code)\n",
    "        return None"
   ]
  },
  {
   "cell_type": "code",
   "execution_count": null,
   "metadata": {},
   "outputs": [],
   "source": [
    "# Extracting Chicago communities area and perimeter\n",
    "data_url = \"https://data.cityofchicago.org/resource/igwz-8jzy.json\"\n",
    "# Fetching data and storing it in a DataFrame (Community areas in Chicago)\n",
    "chicago_community_data = fetch_data_to_dataframe(data_url)\n",
    "chicago_community_data.head()"
   ]
  },
  {
   "cell_type": "code",
   "execution_count": null,
   "metadata": {},
   "outputs": [],
   "source": [
    "# Extracting Chicago Police Stations\n",
    "# URL for the data\n",
    "data_url = \"https://data.cityofchicago.org/resource/z8bn-74gv.json\"\n",
    "# Fetching data and storing it in a DataFrame\n",
    "chicago_police_stations = fetch_data_to_dataframe(data_url)\n",
    "chicago_police_stations.head()"
   ]
  },
  {
   "cell_type": "code",
   "execution_count": null,
   "metadata": {},
   "outputs": [],
   "source": [
    "chicago_police_stations['district'].unique()"
   ]
  },
  {
   "cell_type": "code",
   "execution_count": null,
   "metadata": {},
   "outputs": [],
   "source": [
    "from io import StringIO"
   ]
  },
  {
   "cell_type": "code",
   "execution_count": null,
   "metadata": {},
   "outputs": [],
   "source": [
    "# Function That load data to S3 bucket\n",
    "def load_data_to_s3(df, bucket_name, s3_file_name):\n",
    "    csv_buffer = StringIO()\n",
    "    df.to_csv(csv_buffer, index=False)\n",
    "    csv_content = csv_buffer.getvalue()\n",
    "    try:\n",
    "        #         s3.upload_file(local_file_path, bucket_name, s3_file_name)\n",
    "        s3.put_object(Bucket=bucket_name, Key=s3_file_name,\n",
    "                      Body=csv_content.encode('utf-8'))\n",
    "        print(\n",
    "            f\"DataFrame uploaded as CSV to S3 bucket: {bucket_name}, Key: {s3_file_name}\")\n",
    "#         print(f\"File {local_file_path} uploaded to s3 as {s3_file_name}\")\n",
    "    except Exception as e:\n",
    "        print(f\"Error uploading file to s3: {str(e)}\")"
   ]
  },
  {
   "cell_type": "code",
   "execution_count": null,
   "metadata": {},
   "outputs": [],
   "source": [
    "# Calling load dataframe function to load Chicago community areas\n",
    "load_data_to_s3(chicago_community_data,\n",
    "                \"final-project-dataset-group6\", \"chicago_communities.csv\")"
   ]
  },
  {
   "cell_type": "code",
   "execution_count": null,
   "metadata": {},
   "outputs": [],
   "source": [
    "# calling load data to s3 buckets to police stations dataset\n",
    "load_data_to_s3(chicago_police_stations,\n",
    "                \"final-project-dataset-group6\", \"chicago_police_stations.csv\")"
   ]
  }
 ],
 "metadata": {
  "kernelspec": {
   "display_name": "Python 3",
   "language": "python",
   "name": "python3"
  },
  "language_info": {
   "codemirror_mode": {
    "name": "ipython",
    "version": 3
   },
   "file_extension": ".py",
   "mimetype": "text/x-python",
   "name": "python",
   "nbconvert_exporter": "python",
   "pygments_lexer": "ipython3",
   "version": "undefined.undefined.undefined"
  }
 },
 "nbformat": 4,
 "nbformat_minor": 5
}
