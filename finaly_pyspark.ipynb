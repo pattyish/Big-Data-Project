{
  "cells": [
    {
      "cell_type": "code",
      "execution_count": null,
      "metadata": {},
      "outputs": [],
      "source": [
        "\"\"\"\n",
        "Code below are Pyspark code, that used for Data analysis, Data wrangling and used to load tabes to AWS RDS.\n",
        "JupyterHub Pysaprk environmenty were used\n",
        "\"\"\""
      ]
    },
    {
      "cell_type": "code",
      "execution_count": null,
      "metadata": {
        "id": "SD8R-ZUXZrTw"
      },
      "outputs": [],
      "source": [
        "from pyspark.sql import SparkSession\n",
        "spark = SparkSession.builder \\\n",
        ".config(\"spark.jars\", \"/usr/lib/spark/jars/mysql-connector-j-8.0.33.jar\") \\\n",
        ".getOrCreate()"
      ]
    },
    {
      "cell_type": "code",
      "execution_count": null,
      "metadata": {
        "id": "fc8h4b4oKzwM"
      },
      "outputs": [],
      "source": [
        "from pyspark.sql.functions import to_timestamp, col\n",
        "from pyspark.sql.functions import col, concat, lit, when, length\n",
        "# Loading chicago crime dataset from s3 to pyspark working environment for analysis\n",
        "df_crime = spark.read.format(\"csv\").option(\"header\", \"true\").load(\"s3://final-project-dataset-group6/crime_report.csv\")\\\n",
        ".withColumn(\"Date\", to_timestamp(col(\"Date\"), \"MM/dd/yyyy hh:mm:ss a\"))\n",
        "df_crime.show(2)"
      ]
    },
    {
      "cell_type": "code",
      "execution_count": 13,
      "metadata": {
        "id": "E1mP9CkeKzzY"
      },
      "outputs": [],
      "source": [
        "# Loding chicago police stations from s3 to pyspark working environment for analysis\n",
        "df_pl_st = spark.read.format(\"csv\").option(\"header\", \"true\")\\\n",
        ".load(\"s3://final-project-dataset-group6/chicago_police_stations.csv\")\n",
        "df_pl_st.show(2)"
      ]
    },
    {
      "cell_type": "code",
      "execution_count": null,
      "metadata": {
        "id": "9E0Pmny-Kz2N"
      },
      "outputs": [],
      "source": [
        "# Loding chicago police stations from s3 to pyspark working environment for analysis\n",
        "df_communitties = spark.read.format(\"csv\").option(\"header\", \"true\")\\\n",
        ".load(\"s3://final-project-dataset-group6/chicago_communities.csv\")\n",
        "df_communitties.show(2)"
      ]
    },
    {
      "cell_type": "code",
      "execution_count": 15,
      "metadata": {
        "id": "7S35kzAlKz42"
      },
      "outputs": [],
      "source": [
        "# Crime Dataset\n",
        "df_crime.count()"
      ]
    },
    {
      "cell_type": "markdown",
      "metadata": {
        "id": "_Zk__NG0r9fJ"
      },
      "source": [
        "Understanding Data frames"
      ]
    },
    {
      "cell_type": "code",
      "execution_count": null,
      "metadata": {
        "colab": {
          "base_uri": "https://localhost:8080/"
        },
        "id": "ExESyDKysDWX",
        "outputId": "16d92da6-b4f0-4822-d3a7-aa07685fc9a7"
      },
      "outputs": [
        {
          "name": "stdout",
          "output_type": "stream",
          "text": [
            "+--------+-----------+-------------------+--------------------+----+------------------+--------------------+--------------------+------+--------+----+--------+----+--------------+--------+------------+------------+----+--------------------+--------+---------+--------+\n",
            "|      ID|Case Number|               Date|               Block|IUCR|      Primary Type|         Description|Location Description|Arrest|Domestic|Beat|District|Ward|Community Area|FBI Code|X Coordinate|Y Coordinate|Year|          Updated On|Latitude|Longitude|Location|\n",
            "+--------+-----------+-------------------+--------------------+----+------------------+--------------------+--------------------+------+--------+----+--------+----+--------------+--------+------------+------------+----+--------------------+--------+---------+--------+\n",
            "|11037294|   JA371270|2015-03-18 12:00:00|   0000X W WACKER DR|1153|DECEPTIVE PRACTICE|FINANCIAL IDENTIT...|                BANK| false|   false|0111|     001|  42|            32|      11|        null|        null|2015|08/01/2017 03:52:...|    null|     null|    null|\n",
            "|11646293|   JC213749|2018-12-20 15:00:00|023XX N LOCKWOOD AVE|1154|DECEPTIVE PRACTICE|FINANCIAL IDENTIT...|           APARTMENT| false|   false|2515|     025|  36|            19|      11|        null|        null|2018|04/06/2019 04:04:...|    null|     null|    null|\n",
            "|11645836|   JC212333|2016-05-01 00:25:00| 055XX S ROCKWELL ST|1153|DECEPTIVE PRACTICE|FINANCIAL IDENTIT...|                null| false|   false|0824|     008|  15|            63|      11|        null|        null|2016|04/06/2019 04:04:...|    null|     null|    null|\n",
            "+--------+-----------+-------------------+--------------------+----+------------------+--------------------+--------------------+------+--------+----+--------+----+--------------+--------+------------+------------+----+--------------------+--------+---------+--------+\n",
            "only showing top 3 rows\n",
            "\n"
          ]
        }
      ],
      "source": [
        "# Crime report datafrane\n",
        "df_crime.show(3)"
      ]
    },
    {
      "cell_type": "code",
      "execution_count": null,
      "metadata": {
        "colab": {
          "base_uri": "https://localhost:8080/"
        },
        "id": "byTJ24KqsRVw",
        "outputId": "c406ae65-5391-4735-abff-974fda7ca33a"
      },
      "outputs": [
        {
          "data": {
            "text/plain": [
              "7946816"
            ]
          },
          "execution_count": 32,
          "metadata": {},
          "output_type": "execute_result"
        }
      ],
      "source": [
        "df_crime.count()"
      ]
    },
    {
      "cell_type": "code",
      "execution_count": null,
      "metadata": {
        "colab": {
          "base_uri": "https://localhost:8080/"
        },
        "id": "MKVz_OS2sVr0",
        "outputId": "cd49ae40-c01a-4dd6-b683-68f14d2c5bd0"
      },
      "outputs": [
        {
          "name": "stdout",
          "output_type": "stream",
          "text": [
            "root\n",
            " |-- ID: string (nullable = true)\n",
            " |-- Case Number: string (nullable = true)\n",
            " |-- Date: timestamp (nullable = true)\n",
            " |-- Block: string (nullable = true)\n",
            " |-- IUCR: string (nullable = true)\n",
            " |-- Primary Type: string (nullable = true)\n",
            " |-- Description: string (nullable = true)\n",
            " |-- Location Description: string (nullable = true)\n",
            " |-- Arrest: string (nullable = true)\n",
            " |-- Domestic: string (nullable = true)\n",
            " |-- Beat: string (nullable = true)\n",
            " |-- District: string (nullable = true)\n",
            " |-- Ward: string (nullable = true)\n",
            " |-- Community Area: string (nullable = true)\n",
            " |-- FBI Code: string (nullable = true)\n",
            " |-- X Coordinate: string (nullable = true)\n",
            " |-- Y Coordinate: string (nullable = true)\n",
            " |-- Year: string (nullable = true)\n",
            " |-- Updated On: string (nullable = true)\n",
            " |-- Latitude: string (nullable = true)\n",
            " |-- Longitude: string (nullable = true)\n",
            " |-- Location: string (nullable = true)\n",
            "\n"
          ]
        }
      ],
      "source": [
        "df_crime.printSchema()"
      ]
    },
    {
      "cell_type": "code",
      "execution_count": null,
      "metadata": {
        "id": "C63eHvxJsZD_"
      },
      "outputs": [],
      "source": [
        "# giving column meaningfull data type\n",
        "from pyspark.sql.types import StructType, StructField, StringType, TimestampType, BooleanType, DoubleType, IntegerType\n",
        "# df_crime = df_crime.withColumn(\"Community Area\", col(\"Community Area\").cast(\"int\"))\n",
        "df_crime = df_crime.withColumn(\"Year\", col(\"Year\").cast(\"int\"))\n",
        "df_crime = df_crime.withColumn(\"Latitude\", col(\"Latitude\").cast(\"double\"))\n",
        "df_crime = df_crime.withColumn(\"Longitude\", col(\"Longitude\").cast(\"double\"))"
      ]
    },
    {
      "cell_type": "code",
      "execution_count": null,
      "metadata": {
        "id": "ALRb971DwQXa"
      },
      "outputs": [],
      "source": [
        "labels = [\n",
        " ('ID', StringType()),\n",
        " ('Case Number', StringType()),\n",
        " ('Date', TimestampType()),\n",
        " ('Block', StringType()),\n",
        " ('IUCR', StringType()),\n",
        " ('Primary Type', StringType()),\n",
        " ('Description', StringType()),\n",
        " ('Location Description', StringType()),\n",
        " ('Arrest', StringType()),\n",
        " ('Domestic', StringType()),\n",
        " ('Beat', StringType()),\n",
        " ('District', StringType()),\n",
        " ('Ward', StringType()),\n",
        " ('Community Area', StringType()),\n",
        " ('FBI Code', StringType()),\n",
        " ('X Coordinate', StringType()),\n",
        " ('Y Coordinate', StringType()),\n",
        " ('Year', IntegerType()),\n",
        " ('Updated On', StringType()),\n",
        " ('Latitude', DoubleType()),\n",
        " ('Longitude', DoubleType()),\n",
        " ('Location', StringType())\n",
        " ]\n"
      ]
    },
    {
      "cell_type": "code",
      "execution_count": null,
      "metadata": {
        "id": "1g8L51DpwVrN"
      },
      "outputs": [],
      "source": [
        "schema = StructType([StructField(lab[0], lab[1], True) for lab in labels])"
      ]
    },
    {
      "cell_type": "code",
      "execution_count": null,
      "metadata": {
        "id": "r3qmyleJyKun"
      },
      "outputs": [],
      "source": [
        "df_crime= spark.createDataFrame(df_crime.rdd, schema)\n",
        "# Giving date right time format\n",
        "# df_crime = df_crime.withColumn(\"Date\", to_timestamp(col(\"Date\"), \"MM/dd/yyyy hh:mm:ss a\"))\n",
        "# df_crime = df_crime.withColumn(\"UnixTimestamp\", unix_timestamp(\"Date\", \"MM/dd/yyyy hh:mm:ss a\").cast(\"timestamp\"))"
      ]
    },
    {
      "cell_type": "code",
      "execution_count": null,
      "metadata": {
        "colab": {
          "base_uri": "https://localhost:8080/"
        },
        "id": "rzdrDpNLyb5M",
        "outputId": "8ba7449f-5919-40d6-f635-117426303451"
      },
      "outputs": [
        {
          "name": "stdout",
          "output_type": "stream",
          "text": [
            "root\n",
            " |-- ID: string (nullable = true)\n",
            " |-- Case Number: string (nullable = true)\n",
            " |-- Date: timestamp (nullable = true)\n",
            " |-- Block: string (nullable = true)\n",
            " |-- IUCR: string (nullable = true)\n",
            " |-- Primary Type: string (nullable = true)\n",
            " |-- Description: string (nullable = true)\n",
            " |-- Location Description: string (nullable = true)\n",
            " |-- Arrest: string (nullable = true)\n",
            " |-- Domestic: string (nullable = true)\n",
            " |-- Beat: string (nullable = true)\n",
            " |-- District: string (nullable = true)\n",
            " |-- Ward: string (nullable = true)\n",
            " |-- Community Area: string (nullable = true)\n",
            " |-- FBI Code: string (nullable = true)\n",
            " |-- X Coordinate: string (nullable = true)\n",
            " |-- Y Coordinate: string (nullable = true)\n",
            " |-- Year: integer (nullable = true)\n",
            " |-- Updated On: string (nullable = true)\n",
            " |-- Latitude: double (nullable = true)\n",
            " |-- Longitude: double (nullable = true)\n",
            " |-- Location: string (nullable = true)\n",
            "\n"
          ]
        }
      ],
      "source": [
        "df_crime.printSchema()"
      ]
    },
    {
      "cell_type": "code",
      "execution_count": null,
      "metadata": {
        "colab": {
          "base_uri": "https://localhost:8080/"
        },
        "id": "8mzWbw9q6NC-",
        "outputId": "ce388b42-eaf9-474a-845e-99c123602445"
      },
      "outputs": [
        {
          "data": {
            "text/plain": [
              "['ID',\n",
              " 'Case Number',\n",
              " 'Date',\n",
              " 'Block',\n",
              " 'IUCR',\n",
              " 'Primary Type',\n",
              " 'Description',\n",
              " 'Location Description',\n",
              " 'Arrest',\n",
              " 'Domestic',\n",
              " 'Beat',\n",
              " 'District',\n",
              " 'Ward',\n",
              " 'Community Area',\n",
              " 'FBI Code',\n",
              " 'X Coordinate',\n",
              " 'Y Coordinate',\n",
              " 'Year',\n",
              " 'Updated On',\n",
              " 'Latitude',\n",
              " 'Longitude',\n",
              " 'Location']"
            ]
          },
          "execution_count": 39,
          "metadata": {},
          "output_type": "execute_result"
        }
      ],
      "source": [
        "df_crime.columns"
      ]
    },
    {
      "cell_type": "code",
      "execution_count": null,
      "metadata": {
        "colab": {
          "base_uri": "https://localhost:8080/"
        },
        "id": "Ue1ZP5Sq3FGE",
        "outputId": "dfce7bfe-2087-462b-c071-28f9b72d905f"
      },
      "outputs": [
        {
          "name": "stdout",
          "output_type": "stream",
          "text": [
            "+--------+-----------+-------------------+--------------------+----+------------------+--------------------+--------------------+------+--------+----+--------+----+--------------+--------+------------+------------+----+--------------------+--------+---------+--------+\n",
            "|      ID|Case Number|               Date|               Block|IUCR|      Primary Type|         Description|Location Description|Arrest|Domestic|Beat|District|Ward|Community Area|FBI Code|X Coordinate|Y Coordinate|Year|          Updated On|Latitude|Longitude|Location|\n",
            "+--------+-----------+-------------------+--------------------+----+------------------+--------------------+--------------------+------+--------+----+--------+----+--------------+--------+------------+------------+----+--------------------+--------+---------+--------+\n",
            "|11037294|   JA371270|2015-03-18 12:00:00|   0000X W WACKER DR|1153|DECEPTIVE PRACTICE|FINANCIAL IDENTIT...|                BANK| false|   false|0111|     001|  42|            32|      11|        null|        null|2015|08/01/2017 03:52:...|    null|     null|    null|\n",
            "|11646293|   JC213749|2018-12-20 15:00:00|023XX N LOCKWOOD AVE|1154|DECEPTIVE PRACTICE|FINANCIAL IDENTIT...|           APARTMENT| false|   false|2515|     025|  36|            19|      11|        null|        null|2018|04/06/2019 04:04:...|    null|     null|    null|\n",
            "|11645836|   JC212333|2016-05-01 00:25:00| 055XX S ROCKWELL ST|1153|DECEPTIVE PRACTICE|FINANCIAL IDENTIT...|                null| false|   false|0824|     008|  15|            63|      11|        null|        null|2016|04/06/2019 04:04:...|    null|     null|    null|\n",
            "+--------+-----------+-------------------+--------------------+----+------------------+--------------------+--------------------+------+--------+----+--------+----+--------------+--------+------------+------------+----+--------------------+--------+---------+--------+\n",
            "only showing top 3 rows\n",
            "\n"
          ]
        }
      ],
      "source": [
        "df_crime.show(3)"
      ]
    },
    {
      "cell_type": "code",
      "execution_count": null,
      "metadata": {
        "id": "SHWB5Lp7yelb"
      },
      "outputs": [],
      "source": [
        "# Dropping the columns that is not need for our project purpose\n",
        "list_of_unimportant_col = [\"Beat\", \"Block\", \"IUCR\", \"Ward\", \"FBI Code\", \"X Coordinate\", \"Y Coordinate\", \"Updated On\"]\n",
        "df_crime = df_crime.drop(*list_of_unimportant_col)"
      ]
    },
    {
      "cell_type": "code",
      "execution_count": null,
      "metadata": {
        "colab": {
          "base_uri": "https://localhost:8080/"
        },
        "id": "KPn8tszR0nk6",
        "outputId": "b23bea48-4641-4789-8a37-12aa5aebb529"
      },
      "outputs": [
        {
          "name": "stdout",
          "output_type": "stream",
          "text": [
            "+--------+-----------+-------------------+------------------+--------------------+--------------------+------+--------+--------+--------------+----+--------+---------+--------+\n",
            "|      ID|Case Number|               Date|      Primary Type|         Description|Location Description|Arrest|Domestic|District|Community Area|Year|Latitude|Longitude|Location|\n",
            "+--------+-----------+-------------------+------------------+--------------------+--------------------+------+--------+--------+--------------+----+--------+---------+--------+\n",
            "|11037294|   JA371270|2015-03-18 12:00:00|DECEPTIVE PRACTICE|FINANCIAL IDENTIT...|                BANK| false|   false|     001|            32|2015|    null|     null|    null|\n",
            "|11646293|   JC213749|2018-12-20 15:00:00|DECEPTIVE PRACTICE|FINANCIAL IDENTIT...|           APARTMENT| false|   false|     025|            19|2018|    null|     null|    null|\n",
            "|11645836|   JC212333|2016-05-01 00:25:00|DECEPTIVE PRACTICE|FINANCIAL IDENTIT...|                null| false|   false|     008|            63|2016|    null|     null|    null|\n",
            "+--------+-----------+-------------------+------------------+--------------------+--------------------+------+--------+--------+--------------+----+--------+---------+--------+\n",
            "only showing top 3 rows\n",
            "\n"
          ]
        }
      ],
      "source": [
        "df_crime.show(3)"
      ]
    },
    {
      "cell_type": "code",
      "execution_count": null,
      "metadata": {
        "id": "vps8spMz1FUa"
      },
      "outputs": [],
      "source": [
        "# Drop rows with null values in dataframe. specifically where longitude and latitude\n",
        "df_crime = df_crime.dropna(subset=['Latitude'])\n",
        "df_crime = df_crime.dropna(subset=['Longitude'])"
      ]
    },
    {
      "cell_type": "code",
      "execution_count": null,
      "metadata": {
        "colab": {
          "base_uri": "https://localhost:8080/"
        },
        "id": "89OCBssKBMaA",
        "outputId": "5b5b0331-4e8d-4808-a4b2-b903e4fde48d"
      },
      "outputs": [
        {
          "name": "stdout",
          "output_type": "stream",
          "text": [
            "+--------+-----------+-------------------+------------+--------------+--------------------+------+--------+--------+--------------+----+------------+-------------+--------------------+\n",
            "|      ID|Case Number|               Date|Primary Type|   Description|Location Description|Arrest|Domestic|District|Community Area|Year|    Latitude|    Longitude|            Location|\n",
            "+--------+-----------+-------------------+------------+--------------+--------------------+------+--------+--------+--------------+----+------------+-------------+--------------------+\n",
            "|12045583|   JD226426|2020-05-07 10:24:00|       THEFT|$500 AND UNDER|           APARTMENT| false|   false|     002|            35|2020|41.830481843|-87.621751752|(41.830481843, -8...|\n",
            "|12031001|   JD209965|2020-04-16 05:00:00|     BATTERY|        SIMPLE|           APARTMENT|  true|   false|     009|            60|2020|41.836310224|-87.639624112|(41.836310224, -8...|\n",
            "+--------+-----------+-------------------+------------+--------------+--------------------+------+--------+--------+--------------+----+------------+-------------+--------------------+\n",
            "only showing top 2 rows\n",
            "\n"
          ]
        }
      ],
      "source": [
        "df_crime.show(2)"
      ]
    },
    {
      "cell_type": "code",
      "execution_count": null,
      "metadata": {
        "colab": {
          "base_uri": "https://localhost:8080/"
        },
        "id": "q-flfoQIBTZ2",
        "outputId": "a9de41e2-3dab-4743-feb8-cf5eecff135c"
      },
      "outputs": [
        {
          "data": {
            "text/plain": [
              "7859202"
            ]
          },
          "execution_count": 45,
          "metadata": {},
          "output_type": "execute_result"
        }
      ],
      "source": [
        "# Total length of dataframe after dropping null longitude and latitude\n",
        "df_crime.count()"
      ]
    },
    {
      "cell_type": "code",
      "execution_count": null,
      "metadata": {
        "id": "JjnujV6wDWQg"
      },
      "outputs": [],
      "source": [
        "# changing distric values to have the same values (cause 16 doesn't have 0 as prefix)\n",
        "def add_prefix(value):\n",
        "    return when(\n",
        "        col('District') == lit(\"16\"),\n",
        "        concat(lit('0'), col('District').cast('string'))\n",
        "    ).otherwise(col('District'))  # Keeps the original value if the condition doesn't match\n",
        "\n",
        "# Apply the function to create a new column 'District' with the prefixes\n",
        "df_crime_new = df_crime.withColumn('District', add_prefix(col('District')))"
      ]
    },
    {
      "cell_type": "code",
      "execution_count": null,
      "metadata": {
        "colab": {
          "base_uri": "https://localhost:8080/"
        },
        "id": "2TYq0TClAUQR",
        "outputId": "73511921-6bcd-40b3-c0fb-42de06f29d9b"
      },
      "outputs": [
        {
          "name": "stdout",
          "output_type": "stream",
          "text": [
            "+--------+-----------+-------------------+------------+--------------------+--------------------+------+--------+--------+--------------+----+------------+-------------+--------------------+\n",
            "|      ID|Case Number|               Date|Primary Type|         Description|Location Description|Arrest|Domestic|District|Community Area|Year|    Latitude|    Longitude|            Location|\n",
            "+--------+-----------+-------------------+------------+--------------------+--------------------+------+--------+--------+--------------+----+------------+-------------+--------------------+\n",
            "|12045583|   JD226426|2020-05-07 10:24:00|       THEFT|      $500 AND UNDER|           APARTMENT| false|   false|     002|            35|2020|41.830481843|-87.621751752|(41.830481843, -8...|\n",
            "|12031001|   JD209965|2020-04-16 05:00:00|     BATTERY|              SIMPLE|           APARTMENT|  true|   false|     009|            60|2020|41.836310224|-87.639624112|(41.836310224, -8...|\n",
            "|12093529|   JD282112|2020-07-01 10:16:00|     ASSAULT|AGGRAVATED - HANDGUN|              STREET|  true|   false|     004|            46|2020|41.747609555|-87.549179329|(41.747609555, -8...|\n",
            "|12178140|   JD381597|2020-09-27 23:29:00|     BATTERY|              SIMPLE|RESIDENCE - PORCH...| false|   false|     007|            67|2020| 41.77487752|-87.671374872|(41.77487752, -87...|\n",
            "| 4144897|   HL474854|2005-07-10 15:00:00|     BATTERY|AGGRAVATED: OTHER...|              STREET| false|   false|     007|            68|2005|41.781002663|-87.652107119|(41.781002663, -8...|\n",
            "+--------+-----------+-------------------+------------+--------------------+--------------------+------+--------+--------+--------------+----+------------+-------------+--------------------+\n",
            "only showing top 5 rows\n",
            "\n"
          ]
        }
      ],
      "source": [
        "df_crime_new.show(5)"
      ]
    },
    {
      "cell_type": "code",
      "execution_count": null,
      "metadata": {
        "id": "-W_XOg_cPwXz"
      },
      "outputs": [],
      "source": [
        "crime_table = df_crime_new"
      ]
    },
    {
      "cell_type": "markdown",
      "metadata": {
        "id": "AyPTYw5TdrrX"
      },
      "source": []
    },
    {
      "cell_type": "markdown",
      "metadata": {
        "id": "sMQ-KHPsC3uf"
      },
      "source": [
        "Police station (District) in Chicago Dataset"
      ]
    },
    {
      "cell_type": "code",
      "execution_count": null,
      "metadata": {
        "colab": {
          "base_uri": "https://localhost:8080/"
        },
        "id": "lc7OdhbFDAIB",
        "outputId": "5b4d1453-e3e5-4037-9e6e-b4958d6df22f"
      },
      "outputs": [
        {
          "name": "stdout",
          "output_type": "stream",
          "text": [
            "+--------------------+-----------------+--------------------+-------+-----+-----+--------------------+------------+------------+------------+------------+------------+-----------+------------+--------------------+\n",
            "|            DISTRICT|    DISTRICT NAME|             ADDRESS|   CITY|STATE|  ZIP|             WEBSITE|       PHONE|         FAX|         TTY|X COORDINATE|Y COORDINATE|   LATITUDE|   LONGITUDE|            LOCATION|\n",
            "+--------------------+-----------------+--------------------+-------+-----+-----+--------------------+------------+------------+------------+------------+------------+-----------+------------+--------------------+\n",
            "|        Headquarters|     Headquarters| 3510 S Michigan Ave|Chicago|   IL|60653|http://home.chica...|        null|        null|        null| 1177731.401| 1881697.404|41.83070169|-87.62339535|(41.8307016873, -...|\n",
            "|                  18|       Near North|  1160 N Larrabee St|Chicago|   IL|60610|http://home.chica...|312-742-5870|312-742-5771|312-742-5773| 1172080.029| 1908086.527|41.90324165|-87.64335214|(41.9032416531, -...|\n",
            "|                  19|        Town Hall|    850 W Addison St|Chicago|   IL|60613|http://home.chica...|312-744-8320|312-744-4481|312-744-8011| 1169730.744| 1924160.317|41.94740046|-87.65151202|(41.9474004564, -...|\n",
            "|                  20|          Lincoln|  5400 N Lincoln Ave|Chicago|   IL|60625|http://home.chica...|312-742-8714|312-742-8803|312-742-8841| 1158399.146| 1935788.826|41.97954951|-87.69284451|(41.9795495131, -...|\n",
            "|                  22|      Morgan Park| 1900 W Monterey Ave|Chicago|   IL|60643|http://home.chica...|312-745-0710|312-745-0814|312-745-0569| 1165825.476| 1830851.333|41.69143478|-87.66852039|(41.6914347795, -...|\n",
            "|                  24|      Rogers Park|     6464 N Clark St|Chicago|   IL|60626|http://home.chica...|312-744-5907|312-744-6928|312-744-7603| 1164193.588| 1943199.401|41.99976348|-87.67132429|(41.9997634842, -...|\n",
            "|                  25|    Grand Central|    5555 W Grand Ave|Chicago|   IL|60639|http://home.chica...|312-746-8605|312-746-4353|312-746-8383| 1138770.871| 1913442.439|41.91860889|-87.76557448|(41.9186088912, -...|\n",
            "|                   1|          Central|     1718 S State St|Chicago|   IL|60616|http://home.chica...|312-745-4290|312-745-3694|312-745-3693| 1176569.052| 1891771.704|41.85837259|-87.62735617|(41.8583725929, -...|\n",
            "|                   2|        Wentworth|5101 S Wentworth Ave|Chicago|   IL|60609|http://home.chica...|312-747-8366|312-747-5396|312-747-6656| 1175864.837| 1871153.753|41.80181109|-87.63056018|(41.8018110912, -...|\n",
            "|                   3|   Grand Crossing|7040 S Cottage Gr...|Chicago|   IL|60637|http://home.chica...|312-747-8201|312-747-5479|312-747-9168| 1182739.183| 1858317.732|41.76643089|-87.60574786|(41.7664308925, -...|\n",
            "|                   4|    South Chicago|     2255 E 103rd St|Chicago|   IL|60617|http://home.chica...|312-747-7581|312-747-5276|312-747-9169| 1193131.299| 1837090.265|41.70793329|-87.56834912|(41.7079332906, -...|\n",
            "|                   5|          Calumet|      727 E 111th St|Chicago|   IL|60628|http://home.chica...|312-747-8210|312-747-5935|312-747-9170| 1183305.427| 1831462.313|41.69272336|-87.60450587|(41.6927233639, -...|\n",
            "|                   6|          Gresham|   7808 S Halsted St|Chicago|   IL|60620|http://home.chica...|312-745-3617|312-745-3649|312-745-3639| 1172283.013| 1853022.646|41.75213684|-87.64422891|(41.7521368378, -...|\n",
            "|                   7|        Englewood|      1438 W 63rd St|Chicago|   IL|60636|http://home.chica...|312-747-8223|312-747-6558|312-747-6652| 1167659.235| 1863005.522|41.77963154|-87.66088702|(41.7796315359, -...|\n",
            "|                   8|     Chicago Lawn|      3420 W 63rd St|Chicago|   IL|60629|http://home.chica...|312-747-8730|312-747-8545|312-747-8116| 1154575.242| 1862672.049|41.77898719|-87.70886382|(41.778987189, -8...|\n",
            "|                   9|          Deering|   3120 S Halsted St|Chicago|   IL|60608|http://home.chica...|312-747-8227|312-747-5329|312-747-9172|  1171440.24| 1884085.224|41.83739443|-87.64640771|(41.8373944311, -...|\n",
            "|                  10|            Ogden|    3315 W Ogden Ave|Chicago|   IL|60623|http://home.chica...|312-747-7511|312-747-7429|312-747-7471| 1154500.753| 1890985.501|41.85668453|-87.70838196|(41.8566845327, -...|\n",
            "|                  11|         Harrison|  3151 W Harrison St|Chicago|   IL|60612|http://home.chica...|312-746-8386|312-746-4281|312-746-5151| 1155244.069| 1897148.755|41.87358229|-87.70548813|(41.8735822883, -...|\n",
            "|                  12|        Near West|1412 S Blue Islan...|   null| null| null|                null|        null|        null|        null|        null|        null|       null|        null|                null|\n",
            "|\",Chicago,IL,6060...| -87.6569725149)\"|                null|   null| null| null|                null|        null|        null|        null|        null|        null|       null|        null|                null|\n",
            "+--------------------+-----------------+--------------------+-------+-----+-----+--------------------+------------+------------+------------+------------+------------+-----------+------------+--------------------+\n",
            "only showing top 20 rows\n",
            "\n"
          ]
        }
      ],
      "source": [
        "df_pl_st.show()"
      ]
    },
    {
      "cell_type": "code",
      "execution_count": null,
      "metadata": {
        "colab": {
          "base_uri": "https://localhost:8080/"
        },
        "id": "iuxD1Ol6DQt5",
        "outputId": "803d27b7-685f-470b-c484-e8d42ead126c"
      },
      "outputs": [
        {
          "name": "stdout",
          "output_type": "stream",
          "text": [
            "root\n",
            " |-- DISTRICT: string (nullable = true)\n",
            " |-- DISTRICT NAME: string (nullable = true)\n",
            " |-- ADDRESS: string (nullable = true)\n",
            " |-- CITY: string (nullable = true)\n",
            " |-- STATE: string (nullable = true)\n",
            " |-- ZIP: string (nullable = true)\n",
            " |-- WEBSITE: string (nullable = true)\n",
            " |-- PHONE: string (nullable = true)\n",
            " |-- FAX: string (nullable = true)\n",
            " |-- TTY: string (nullable = true)\n",
            " |-- X COORDINATE: string (nullable = true)\n",
            " |-- Y COORDINATE: string (nullable = true)\n",
            " |-- LATITUDE: string (nullable = true)\n",
            " |-- LONGITUDE: string (nullable = true)\n",
            " |-- LOCATION: string (nullable = true)\n",
            "\n"
          ]
        }
      ],
      "source": [
        "df_pl_st.printSchema()"
      ]
    },
    {
      "cell_type": "code",
      "execution_count": null,
      "metadata": {
        "colab": {
          "base_uri": "https://localhost:8080/"
        },
        "id": "7zT2Tx2GVaBJ",
        "outputId": "b19c32b4-a5c8-4ea8-826a-6e1c55aaaeb2"
      },
      "outputs": [
        {
          "name": "stdout",
          "output_type": "stream",
          "text": [
            "+-----------------+\n",
            "|    DISTRICT NAME|\n",
            "+-----------------+\n",
            "|         Harrison|\n",
            "|     Chicago Lawn|\n",
            "|      Albany Park|\n",
            "|      Rogers Park|\n",
            "|        Englewood|\n",
            "|   Grand Crossing|\n",
            "| -87.6569725149)\"|\n",
            "|           Austin|\n",
            "|          Deering|\n",
            "|      Morgan Park|\n",
            "|    Grand Central|\n",
            "|        Near West|\n",
            "|    South Chicago|\n",
            "|          Lincoln|\n",
            "|          Central|\n",
            "|     Headquarters|\n",
            "|        Town Hall|\n",
            "|   Jefferson Park|\n",
            "|          Gresham|\n",
            "|      Shakespeare|\n",
            "+-----------------+\n",
            "only showing top 20 rows\n",
            "\n"
          ]
        }
      ],
      "source": [
        "df_pl_st.select(\"DISTRICT NAME\").distinct().show()"
      ]
    },
    {
      "cell_type": "code",
      "execution_count": null,
      "metadata": {
        "colab": {
          "base_uri": "https://localhost:8080/"
        },
        "id": "0tIhnJheHfqd",
        "outputId": "10736da0-5e63-481e-f531-130c128f8d1a"
      },
      "outputs": [
        {
          "name": "stdout",
          "output_type": "stream",
          "text": [
            "+--------+-------------+------------------+-------+-----+-----+--------------------+------------+------------+------------+------------+------------+-----------+------------+--------------------+\n",
            "|DISTRICT|DISTRICT NAME|           ADDRESS|   CITY|STATE|  ZIP|             WEBSITE|       PHONE|         FAX|         TTY|X COORDINATE|Y COORDINATE|   LATITUDE|   LONGITUDE|            LOCATION|\n",
            "+--------+-------------+------------------+-------+-----+-----+--------------------+------------+------------+------------+------------+------------+-----------+------------+--------------------+\n",
            "|      18|   Near North|1160 N Larrabee St|Chicago|   IL|60610|http://home.chica...|312-742-5870|312-742-5771|312-742-5773| 1172080.029| 1908086.527|41.90324165|-87.64335214|(41.9032416531, -...|\n",
            "|      19|    Town Hall|  850 W Addison St|Chicago|   IL|60613|http://home.chica...|312-744-8320|312-744-4481|312-744-8011| 1169730.744| 1924160.317|41.94740046|-87.65151202|(41.9474004564, -...|\n",
            "+--------+-------------+------------------+-------+-----+-----+--------------------+------------+------------+------------+------------+------------+-----------+------------+--------------------+\n",
            "only showing top 2 rows\n",
            "\n"
          ]
        }
      ],
      "source": [
        "# Filter all districts where it is not HeadQuaters (Because In my crime recored there are not record investigated by headqauter)\n",
        "df_pl_st_new = df_pl_st.filter((col(\"DISTRICT\") != \"Headquarters\") & (~col('DISTRICT').contains(\"Chicago,IL,6060\")))\n",
        "df_pl_st_new.show(2)"
      ]
    },
    {
      "cell_type": "code",
      "execution_count": null,
      "metadata": {
        "colab": {
          "base_uri": "https://localhost:8080/"
        },
        "id": "0wfO9x0oXIsk",
        "outputId": "1ed316f5-ea94-4ad1-c09d-f25781e53abf"
      },
      "outputs": [
        {
          "name": "stdout",
          "output_type": "stream",
          "text": [
            "+--------------+\n",
            "| DISTRICT NAME|\n",
            "+--------------+\n",
            "|      Harrison|\n",
            "|  Chicago Lawn|\n",
            "|   Albany Park|\n",
            "|   Rogers Park|\n",
            "|     Englewood|\n",
            "|Grand Crossing|\n",
            "|        Austin|\n",
            "|       Deering|\n",
            "|   Morgan Park|\n",
            "| Grand Central|\n",
            "|     Near West|\n",
            "| South Chicago|\n",
            "|       Lincoln|\n",
            "|       Central|\n",
            "|     Town Hall|\n",
            "|Jefferson Park|\n",
            "|       Gresham|\n",
            "|   Shakespeare|\n",
            "|    Near North|\n",
            "|     Wentworth|\n",
            "+--------------+\n",
            "only showing top 20 rows\n",
            "\n"
          ]
        }
      ],
      "source": [
        "df_pl_st.select(\"district_name\").distinct().show()"
      ]
    },
    {
      "cell_type": "code",
      "execution_count": null,
      "metadata": {
        "colab": {
          "base_uri": "https://localhost:8080/"
        },
        "id": "1yYCDp9BOIUH",
        "outputId": "af4ac040-df3b-451e-d484-9009539c8494"
      },
      "outputs": [
        {
          "name": "stdout",
          "output_type": "stream",
          "text": [
            "+--------+-------------+------------------+-------+-----+-----+--------------------+------------+------------+------------+------------+------------+-----------+------------+--------------------+\n",
            "|DISTRICT|DISTRICT NAME|           ADDRESS|   CITY|STATE|  ZIP|             WEBSITE|       PHONE|         FAX|         TTY|X COORDINATE|Y COORDINATE|   LATITUDE|   LONGITUDE|            LOCATION|\n",
            "+--------+-------------+------------------+-------+-----+-----+--------------------+------------+------------+------------+------------+------------+-----------+------------+--------------------+\n",
            "|     018|   Near North|1160 N Larrabee St|Chicago|   IL|60610|http://home.chica...|312-742-5870|312-742-5771|312-742-5773| 1172080.029| 1908086.527|41.90324165|-87.64335214|(41.9032416531, -...|\n",
            "|     019|    Town Hall|  850 W Addison St|Chicago|   IL|60613|http://home.chica...|312-744-8320|312-744-4481|312-744-8011| 1169730.744| 1924160.317|41.94740046|-87.65151202|(41.9474004564, -...|\n",
            "+--------+-------------+------------------+-------+-----+-----+--------------------+------------+------------+------------+------------+------------+-----------+------------+--------------------+\n",
            "only showing top 2 rows\n",
            "\n"
          ]
        }
      ],
      "source": [
        "from pyspark.sql.functions import col, concat, lit, when, length\n",
        "# Adding 0 as prefict for each distric column to make it similar to what we have in crime dataset cause we will need to join them got get district name\n",
        "def add_prefix(value):\n",
        "    return when(col('DISTRICT').cast('string').rlike('^\\\\d$'), concat(lit('00'), col('DISTRICT').cast('string')))\\\n",
        "           .otherwise(concat(lit('0'), col('DISTRICT').cast('string')))\n",
        "\n",
        "# Apply the function to create a new column 'DISTRICT' with the prefixes\n",
        "df_pl_st_new_ = df_pl_st_new.withColumn('DISTRICT', add_prefix(col('DISTRICT')))\n",
        "\n",
        "# df_pl_st_new_ = df_pl_st_new.withColumn('DISTRICT', concat(lit('0'), col('DISTRICT').cast('string')))\n",
        "df_pl_st_new_.show(2)"
      ]
    },
    {
      "cell_type": "code",
      "execution_count": null,
      "metadata": {
        "colab": {
          "base_uri": "https://localhost:8080/"
        },
        "id": "WIxmtBJMOIYW",
        "outputId": "b44f1a27-7832-4f9c-d9c4-e940fd633a43"
      },
      "outputs": [
        {
          "name": "stdout",
          "output_type": "stream",
          "text": [
            "+--------+--------------+-----------+------------+\n",
            "|DISTRICT| DISTRICT NAME|   LATITUDE|   LONGITUDE|\n",
            "+--------+--------------+-----------+------------+\n",
            "|     018|    Near North|41.90324165|-87.64335214|\n",
            "|     019|     Town Hall|41.94740046|-87.65151202|\n",
            "|     020|       Lincoln|41.97954951|-87.69284451|\n",
            "|     022|   Morgan Park|41.69143478|-87.66852039|\n",
            "|     024|   Rogers Park|41.99976348|-87.67132429|\n",
            "|     025| Grand Central|41.91860889|-87.76557448|\n",
            "|     001|       Central|41.85837259|-87.62735617|\n",
            "|     002|     Wentworth|41.80181109|-87.63056018|\n",
            "|     003|Grand Crossing|41.76643089|-87.60574786|\n",
            "|     004| South Chicago|41.70793329|-87.56834912|\n",
            "|     005|       Calumet|41.69272336|-87.60450587|\n",
            "|     006|       Gresham|41.75213684|-87.64422891|\n",
            "|     007|     Englewood|41.77963154|-87.66088702|\n",
            "|     008|  Chicago Lawn|41.77898719|-87.70886382|\n",
            "|     009|       Deering|41.83739443|-87.64640771|\n",
            "|     010|         Ogden|41.85668453|-87.70838196|\n",
            "|     011|      Harrison|41.87358229|-87.70548813|\n",
            "|     012|     Near West|       null|        null|\n",
            "|     014|   Shakespeare|41.92110332|-87.69745182|\n",
            "|     015|        Austin|41.88008346|-87.76819989|\n",
            "|     016|Jefferson Park|41.97409445|-87.76614884|\n",
            "|     017|   Albany Park|41.96605342|-87.72811456|\n",
            "+--------+--------------+-----------+------------+\n",
            "\n"
          ]
        }
      ],
      "source": [
        "# We need to drop some columns cause It is all columns we need need: we used this dataset just to get name of district\n",
        "columns_to_select = [\"ADDRESS\", \"CITY\", \"STATE\", \"ZIP\", \"WEBSITE\", \"PHONE\", \"FAX\", \"TTY\", \"X COORDINATE\", \"Y COORDINATE\", \"LOCATION\"]\n",
        "df_pl_st_new_ = df_pl_st_new_.drop(*columns_to_select)\n",
        "df_pl_st_new_.show(40)\n",
        "\n",
        "# We need to drop some columns cause It is all columns we need need: we used this dataset just to get name of district\n",
        "columns_to_select = [\"district\", \"district_name\", \"latitude\", \"longitude\"]\n",
        "df_pl_st_new_ = df_pl_st_new_.select(*columns_to_select)\n",
        "df_pl_st_new_.show(10)"
      ]
    },
    {
      "cell_type": "code",
      "execution_count": null,
      "metadata": {},
      "outputs": [],
      "source": []
    },
    {
      "cell_type": "code",
      "execution_count": null,
      "metadata": {
        "colab": {
          "base_uri": "https://localhost:8080/"
        },
        "id": "jQzB2MUfOIa2",
        "outputId": "585df937-c738-4754-e831-74d37cbfe668"
      },
      "outputs": [
        {
          "name": "stdout",
          "output_type": "stream",
          "text": [
            "+--------+-------------+-----------+------------+\n",
            "|DISTRICT|DISTRICT NAME|   LATITUDE|   LONGITUDE|\n",
            "+--------+-------------+-----------+------------+\n",
            "|     018|   Near North|41.90324165|-87.64335214|\n",
            "|     019|    Town Hall|41.94740046|-87.65151202|\n",
            "+--------+-------------+-----------+------------+\n",
            "only showing top 2 rows\n",
            "\n"
          ]
        }
      ],
      "source": [
        "police_table = df_pl_st_new_\n",
        "police_table.show(2)"
      ]
    },
    {
      "cell_type": "markdown",
      "metadata": {
        "id": "M8iqL6dWZDwP"
      },
      "source": [
        "Cleaning and dropping unnecessary column in community areas in Chicago Illinois"
      ]
    },
    {
      "cell_type": "code",
      "execution_count": null,
      "metadata": {
        "colab": {
          "base_uri": "https://localhost:8080/"
        },
        "id": "V3InFuNVZZfu",
        "outputId": "b9f4830a-1f36-4010-c36f-a497c4c41689"
      },
      "outputs": [
        {
          "name": "stdout",
          "output_type": "stream",
          "text": [
            "+---+--------------------+---------+----+-------+----------+----------+---------------+----------+-------------+-------------+\n",
            "|_c0|            the_geom|perimeter|area|comarea|comarea_id|area_numbe|      community|area_num_1|   shape_area|    shape_len|\n",
            "+---+--------------------+---------+----+-------+----------+----------+---------------+----------+-------------+-------------+\n",
            "|  0|{'type': 'MultiPo...|        0|   0|      0|         0|        35|        DOUGLAS|        35|46004621.1581|31027.0545098|\n",
            "|  1|{'type': 'MultiPo...|        0|   0|      0|         0|        36|        OAKLAND|        36|16913961.0408|19565.5061533|\n",
            "|  2|{'type': 'MultiPo...|        0|   0|      0|         0|        37|    FULLER PARK|        37|19916704.8692|25339.0897503|\n",
            "|  3|{'type': 'MultiPo...|        0|   0|      0|         0|        38|GRAND BOULEVARD|        38|48492503.1554|28196.8371573|\n",
            "|  4|{'type': 'MultiPo...|        0|   0|      0|         0|        39|        KENWOOD|        39|29071741.9283|23325.1679062|\n",
            "+---+--------------------+---------+----+-------+----------+----------+---------------+----------+-------------+-------------+\n",
            "only showing top 5 rows\n",
            "\n"
          ]
        }
      ],
      "source": [
        "# Community area dataset: has 77 communities that are in chicago\n",
        "df_communitties.show(5)"
      ]
    },
    {
      "cell_type": "code",
      "execution_count": null,
      "metadata": {
        "colab": {
          "base_uri": "https://localhost:8080/"
        },
        "id": "_J5_Ci2BZuVm",
        "outputId": "35dd6c3d-d04c-47a7-de7f-3abf371c4b82"
      },
      "outputs": [
        {
          "data": {
            "text/plain": [
              "77"
            ]
          },
          "execution_count": 58,
          "metadata": {},
          "output_type": "execute_result"
        }
      ],
      "source": [
        "df_communitties.count()"
      ]
    },
    {
      "cell_type": "code",
      "execution_count": null,
      "metadata": {
        "colab": {
          "base_uri": "https://localhost:8080/"
        },
        "id": "CKO_bhsrcC1f",
        "outputId": "b8c49b0c-5e8d-4f71-f6c8-1614469ca040"
      },
      "outputs": [
        {
          "data": {
            "text/plain": [
              "77"
            ]
          },
          "execution_count": 59,
          "metadata": {},
          "output_type": "execute_result"
        }
      ],
      "source": [
        "df_communitties.select(\"area_numbe\").distinct().count()"
      ]
    },
    {
      "cell_type": "code",
      "execution_count": null,
      "metadata": {
        "colab": {
          "base_uri": "https://localhost:8080/"
        },
        "id": "1aMZRme1aSc2",
        "outputId": "0caaf037-54a7-4eb3-a2e5-f4f57a7dfd30"
      },
      "outputs": [
        {
          "name": "stdout",
          "output_type": "stream",
          "text": [
            "root\n",
            " |-- _c0: string (nullable = true)\n",
            " |-- the_geom: string (nullable = true)\n",
            " |-- perimeter: string (nullable = true)\n",
            " |-- area: string (nullable = true)\n",
            " |-- comarea: string (nullable = true)\n",
            " |-- comarea_id: string (nullable = true)\n",
            " |-- area_numbe: string (nullable = true)\n",
            " |-- community: string (nullable = true)\n",
            " |-- area_num_1: string (nullable = true)\n",
            " |-- shape_area: string (nullable = true)\n",
            " |-- shape_len: string (nullable = true)\n",
            "\n"
          ]
        }
      ],
      "source": [
        "df_communitties.printSchema()"
      ]
    },
    {
      "cell_type": "code",
      "execution_count": null,
      "metadata": {
        "id": "OeWYj6EMmm2m"
      },
      "outputs": [],
      "source": []
    },
    {
      "cell_type": "code",
      "execution_count": null,
      "metadata": {
        "colab": {
          "base_uri": "https://localhost:8080/"
        },
        "id": "Ht_Sx14YaShM",
        "outputId": "e0fdaa55-e697-46b3-9115-af2b2ecb4413"
      },
      "outputs": [
        {
          "name": "stdout",
          "output_type": "stream",
          "text": [
            "+--------------------+\n",
            "|           community|\n",
            "+--------------------+\n",
            "|       BRIGHTON PARK|\n",
            "|        LINCOLN PARK|\n",
            "|           MONTCLARE|\n",
            "|             HERMOSA|\n",
            "|                LOOP|\n",
            "|      BELMONT CRAGIN|\n",
            "|             OAKLAND|\n",
            "|            ROSELAND|\n",
            "|     WASHINGTON PARK|\n",
            "|GREATER GRAND CRO...|\n",
            "|      AUBURN GRESHAM|\n",
            "|         SOUTH SHORE|\n",
            "|      SOUTH LAWNDALE|\n",
            "|      GARFIELD RIDGE|\n",
            "|      LINCOLN SQUARE|\n",
            "|         EDISON PARK|\n",
            "|             DOUGLAS|\n",
            "|         FULLER PARK|\n",
            "|         IRVING PARK|\n",
            "|         WEST ELSDON|\n",
            "+--------------------+\n",
            "only showing top 20 rows\n",
            "\n"
          ]
        }
      ],
      "source": [
        "# Community areas name\n",
        "df_communitties.select(\"community\").distinct().show()"
      ]
    },
    {
      "cell_type": "code",
      "execution_count": null,
      "metadata": {
        "colab": {
          "base_uri": "https://localhost:8080/"
        },
        "id": "ch9cTfVHaSmF",
        "outputId": "4aa42e89-11a1-4171-940c-6b155e52140b"
      },
      "outputs": [
        {
          "name": "stdout",
          "output_type": "stream",
          "text": [
            "+----------+---------------+\n",
            "|area_numbe|      community|\n",
            "+----------+---------------+\n",
            "|        35|        DOUGLAS|\n",
            "|        36|        OAKLAND|\n",
            "|        37|    FULLER PARK|\n",
            "|        38|GRAND BOULEVARD|\n",
            "|        39|        KENWOOD|\n",
            "+----------+---------------+\n",
            "only showing top 5 rows\n",
            "\n"
          ]
        }
      ],
      "source": [
        "# From this dataset only community area number and community name is needed, so Other columns need to be dropped\n",
        "col_to_drop = [\"_c0\", \"the_geom\", \"perimeter\", \"area\", \"area_num_1\", \"comarea\", \"comarea_id\", \"shape_area\", \"shape_len\"]\n",
        "df_communitties = df_communitties.drop(*col_to_drop)\n",
        "df_communitties.show(5)"
      ]
    },
    {
      "cell_type": "code",
      "execution_count": null,
      "metadata": {
        "colab": {
          "base_uri": "https://localhost:8080/"
        },
        "id": "HtIJSbKPaSso",
        "outputId": "fe393da8-e61d-43d7-d626-cc41eda75f56"
      },
      "outputs": [
        {
          "name": "stdout",
          "output_type": "stream",
          "text": [
            "+----------+---------+\n",
            "|area_numbe|community|\n",
            "+----------+---------+\n",
            "|        35|  DOUGLAS|\n",
            "|        36|  OAKLAND|\n",
            "+----------+---------+\n",
            "only showing top 2 rows\n",
            "\n"
          ]
        }
      ],
      "source": [
        "community_table = df_communitties\n",
        "community_table.show(2)"
      ]
    },
    {
      "cell_type": "markdown",
      "metadata": {
        "id": "FP2Ex8iBeDoW"
      },
      "source": [
        "Joinning Dataset go get one dataset for data analysis"
      ]
    },
    {
      "cell_type": "code",
      "execution_count": null,
      "metadata": {
        "id": "VSvFlXxeeoZc"
      },
      "outputs": [],
      "source": [
        "merged_df = df_crime_new.join(df_pl_st_new_, df_crime_new[\"District\"] == df_pl_st_new_[\"DISTRICT\"], \"inner\")"
      ]
    },
    {
      "cell_type": "code",
      "execution_count": null,
      "metadata": {
        "colab": {
          "base_uri": "https://localhost:8080/"
        },
        "id": "CRvesYii0SyG",
        "outputId": "89307762-4206-4f61-ffdb-7c1757ec256f"
      },
      "outputs": [
        {
          "name": "stdout",
          "output_type": "stream",
          "text": [
            "+--------+\n",
            "|District|\n",
            "+--------+\n",
            "|     009|\n",
            "|     012|\n",
            "|     024|\n",
            "|    null|\n",
            "|     031|\n",
            "|     015|\n",
            "|     006|\n",
            "|     019|\n",
            "|     020|\n",
            "|     011|\n",
            "|     025|\n",
            "|     003|\n",
            "|     005|\n",
            "|     016|\n",
            "|     018|\n",
            "|     008|\n",
            "|     022|\n",
            "|     001|\n",
            "|     014|\n",
            "|     010|\n",
            "|     004|\n",
            "|     017|\n",
            "|     007|\n",
            "|     002|\n",
            "|     021|\n",
            "+--------+\n",
            "\n"
          ]
        }
      ],
      "source": [
        "df_crime_new.select(\"District\").distinct().show(50)"
      ]
    },
    {
      "cell_type": "code",
      "execution_count": null,
      "metadata": {
        "colab": {
          "base_uri": "https://localhost:8080/"
        },
        "id": "mJsQtEx36MGV",
        "outputId": "a07edca8-5fe6-437a-d9b1-2de5540635b1"
      },
      "outputs": [
        {
          "data": {
            "text/plain": [
              "0"
            ]
          },
          "execution_count": 66,
          "metadata": {},
          "output_type": "execute_result"
        }
      ],
      "source": [
        "df_crime_new.filter(col(\"DISTRICT\") == \"16\").count()"
      ]
    },
    {
      "cell_type": "code",
      "execution_count": null,
      "metadata": {
        "colab": {
          "base_uri": "https://localhost:8080/"
        },
        "id": "oLXBtQs2eoQB",
        "outputId": "ec216bbf-af67-41f5-c714-9ce2785bdc63"
      },
      "outputs": [
        {
          "name": "stdout",
          "output_type": "stream",
          "text": [
            "+--------+-----------+-------------------+------------+--------------------+--------------------+------+--------+--------+--------------+----+------------+-------------+--------------------+--------+-------------+-----------+------------+\n",
            "|      ID|Case Number|               Date|Primary Type|         Description|Location Description|Arrest|Domestic|District|Community Area|Year|    Latitude|    Longitude|            Location|DISTRICT|DISTRICT NAME|   LATITUDE|   LONGITUDE|\n",
            "+--------+-----------+-------------------+------------+--------------------+--------------------+------+--------+--------+--------------+----+------------+-------------+--------------------+--------+-------------+-----------+------------+\n",
            "|12045583|   JD226426|2020-05-07 10:24:00|       THEFT|      $500 AND UNDER|           APARTMENT| false|   false|     002|            35|2020|41.830481843|-87.621751752|(41.830481843, -8...|     002|    Wentworth|41.80181109|-87.63056018|\n",
            "|12031001|   JD209965|2020-04-16 05:00:00|     BATTERY|              SIMPLE|           APARTMENT|  true|   false|     009|            60|2020|41.836310224|-87.639624112|(41.836310224, -8...|     009|      Deering|41.83739443|-87.64640771|\n",
            "|12093529|   JD282112|2020-07-01 10:16:00|     ASSAULT|AGGRAVATED - HANDGUN|              STREET|  true|   false|     004|            46|2020|41.747609555|-87.549179329|(41.747609555, -8...|     004|South Chicago|41.70793329|-87.56834912|\n",
            "|12178140|   JD381597|2020-09-27 23:29:00|     BATTERY|              SIMPLE|RESIDENCE - PORCH...| false|   false|     007|            67|2020| 41.77487752|-87.671374872|(41.77487752, -87...|     007|    Englewood|41.77963154|-87.66088702|\n",
            "| 4144897|   HL474854|2005-07-10 15:00:00|     BATTERY|AGGRAVATED: OTHER...|              STREET| false|   false|     007|            68|2005|41.781002663|-87.652107119|(41.781002663, -8...|     007|    Englewood|41.77963154|-87.66088702|\n",
            "+--------+-----------+-------------------+------------+--------------------+--------------------+------+--------+--------+--------------+----+------------+-------------+--------------------+--------+-------------+-----------+------------+\n",
            "only showing top 5 rows\n",
            "\n"
          ]
        }
      ],
      "source": [
        "merged_df.show(5)"
      ]
    },
    {
      "cell_type": "code",
      "execution_count": null,
      "metadata": {
        "colab": {
          "base_uri": "https://localhost:8080/"
        },
        "id": "suSaztA8eoEE",
        "outputId": "e6532cce-550f-4e3e-fc47-af08c73abbff"
      },
      "outputs": [
        {
          "data": {
            "text/plain": [
              "7858902"
            ]
          },
          "execution_count": 68,
          "metadata": {},
          "output_type": "execute_result"
        }
      ],
      "source": [
        "merged_df.count()"
      ]
    },
    {
      "cell_type": "code",
      "execution_count": null,
      "metadata": {
        "colab": {
          "base_uri": "https://localhost:8080/"
        },
        "id": "U0rVDgR69-QM",
        "outputId": "6e4b0928-5b52-493d-e08b-3c20ff4c7161"
      },
      "outputs": [
        {
          "name": "stdout",
          "output_type": "stream",
          "text": [
            "+----------+-----------+\n",
            "|area_numbe|  community|\n",
            "+----------+-----------+\n",
            "|        35|    DOUGLAS|\n",
            "|        36|    OAKLAND|\n",
            "|        37|FULLER PARK|\n",
            "+----------+-----------+\n",
            "only showing top 3 rows\n",
            "\n"
          ]
        }
      ],
      "source": [
        "df_communitties.show(3)"
      ]
    },
    {
      "cell_type": "code",
      "execution_count": null,
      "metadata": {
        "colab": {
          "base_uri": "https://localhost:8080/"
        },
        "id": "vXHGeAMtxMM9",
        "outputId": "1823ba37-4f9f-4907-b58b-12ca6a3bad35"
      },
      "outputs": [
        {
          "name": "stdout",
          "output_type": "stream",
          "text": [
            "+--------+-----------+-------------------+------------+--------------------+--------------------+------+--------+--------+--------------+----+------------+-------------+--------------------+--------+-------------+-----------+------------+----------+--------------+\n",
            "|      ID|Case Number|               Date|Primary Type|         Description|Location Description|Arrest|Domestic|District|Community Area|Year|    Latitude|    Longitude|            Location|DISTRICT|DISTRICT NAME|   LATITUDE|   LONGITUDE|area_numbe|     community|\n",
            "+--------+-----------+-------------------+------------+--------------------+--------------------+------+--------+--------+--------------+----+------------+-------------+--------------------+--------+-------------+-----------+------------+----------+--------------+\n",
            "|12045583|   JD226426|2020-05-07 10:24:00|       THEFT|      $500 AND UNDER|           APARTMENT| false|   false|     002|            35|2020|41.830481843|-87.621751752|(41.830481843, -8...|     002|    Wentworth|41.80181109|-87.63056018|        35|       DOUGLAS|\n",
            "|12031001|   JD209965|2020-04-16 05:00:00|     BATTERY|              SIMPLE|           APARTMENT|  true|   false|     009|            60|2020|41.836310224|-87.639624112|(41.836310224, -8...|     009|      Deering|41.83739443|-87.64640771|        60|    BRIDGEPORT|\n",
            "|12093529|   JD282112|2020-07-01 10:16:00|     ASSAULT|AGGRAVATED - HANDGUN|              STREET|  true|   false|     004|            46|2020|41.747609555|-87.549179329|(41.747609555, -8...|     004|South Chicago|41.70793329|-87.56834912|        46| SOUTH CHICAGO|\n",
            "|12178140|   JD381597|2020-09-27 23:29:00|     BATTERY|              SIMPLE|RESIDENCE - PORCH...| false|   false|     007|            67|2020| 41.77487752|-87.671374872|(41.77487752, -87...|     007|    Englewood|41.77963154|-87.66088702|        67|WEST ENGLEWOOD|\n",
            "| 4144897|   HL474854|2005-07-10 15:00:00|     BATTERY|AGGRAVATED: OTHER...|              STREET| false|   false|     007|            68|2005|41.781002663|-87.652107119|(41.781002663, -8...|     007|    Englewood|41.77963154|-87.66088702|        68|     ENGLEWOOD|\n",
            "+--------+-----------+-------------------+------------+--------------------+--------------------+------+--------+--------+--------------+----+------------+-------------+--------------------+--------+-------------+-----------+------------+----------+--------------+\n",
            "only showing top 5 rows\n",
            "\n"
          ]
        }
      ],
      "source": [
        "merged_with_community_df = merged_df.join(df_communitties, merged_df[\"Community Area\"] == df_communitties[\"area_numbe\"], \"inner\")\n",
        "merged_with_community_df.show(5)"
      ]
    },
    {
      "cell_type": "code",
      "execution_count": null,
      "metadata": {
        "colab": {
          "base_uri": "https://localhost:8080/"
        },
        "id": "OuPK-XQBDes2",
        "outputId": "9d8a1257-f2bf-47e5-ac65-98f75cbc5bb0"
      },
      "outputs": [
        {
          "name": "stdout",
          "output_type": "stream",
          "text": [
            "+--------+-----------+-------------------+------------+--------------------+--------------------+------+--------+----+------------+-------------+--------------------+-------------+-----------+------------+-------------+\n",
            "|      ID|Case Number|               Date|Primary Type|         Description|Location Description|Arrest|Domestic|Year|    Latitude|    Longitude|            Location|DISTRICT NAME|   LATITUDE|   LONGITUDE|    community|\n",
            "+--------+-----------+-------------------+------------+--------------------+--------------------+------+--------+----+------------+-------------+--------------------+-------------+-----------+------------+-------------+\n",
            "|12045583|   JD226426|2020-05-07 10:24:00|       THEFT|      $500 AND UNDER|           APARTMENT| false|   false|2020|41.830481843|-87.621751752|(41.830481843, -8...|    Wentworth|41.80181109|-87.63056018|      DOUGLAS|\n",
            "|12031001|   JD209965|2020-04-16 05:00:00|     BATTERY|              SIMPLE|           APARTMENT|  true|   false|2020|41.836310224|-87.639624112|(41.836310224, -8...|      Deering|41.83739443|-87.64640771|   BRIDGEPORT|\n",
            "|12093529|   JD282112|2020-07-01 10:16:00|     ASSAULT|AGGRAVATED - HANDGUN|              STREET|  true|   false|2020|41.747609555|-87.549179329|(41.747609555, -8...|South Chicago|41.70793329|-87.56834912|SOUTH CHICAGO|\n",
            "+--------+-----------+-------------------+------------+--------------------+--------------------+------+--------+----+------------+-------------+--------------------+-------------+-----------+------------+-------------+\n",
            "only showing top 3 rows\n",
            "\n"
          ]
        }
      ],
      "source": [
        "# Dropping columns of some columns (area_numbe, DISTRICT, District, `Community Area`)\n",
        "merged_with_community_df_ = merged_with_community_df.drop(*[\"Community Area\", \"DISTRICT\", \"District\", \"area_numbe\"])\n",
        "merged_with_community_df_.show(3)"
      ]
    },
    {
      "cell_type": "code",
      "execution_count": null,
      "metadata": {
        "colab": {
          "base_uri": "https://localhost:8080/"
        },
        "id": "1JEBBy6AIfl_",
        "outputId": "5ad33cc5-1f66-4f5b-f685-6aafe781962f"
      },
      "outputs": [
        {
          "name": "stdout",
          "output_type": "stream",
          "text": [
            "+--------+-----------+-------------------+------------+--------------------+--------------------+------+--------+----+------------+-------------+--------------------+-------------+-----------+------------+--------------+---------+----+\n",
            "|      ID|Case Number|               Date|Primary Type|         Description|Location Description|Arrest|Domestic|Year|    Latitude|    Longitude|            Location|DISTRICT NAME|   LATITUDE|   LONGITUDE|     community|     Days|Time|\n",
            "+--------+-----------+-------------------+------------+--------------------+--------------------+------+--------+----+------------+-------------+--------------------+-------------+-----------+------------+--------------+---------+----+\n",
            "|12045583|   JD226426|2020-05-07 10:24:00|       THEFT|      $500 AND UNDER|           APARTMENT| false|   false|2020|41.830481843|-87.621751752|(41.830481843, -8...|    Wentworth|41.80181109|-87.63056018|       DOUGLAS| Thursday|  10|\n",
            "|12031001|   JD209965|2020-04-16 05:00:00|     BATTERY|              SIMPLE|           APARTMENT|  true|   false|2020|41.836310224|-87.639624112|(41.836310224, -8...|      Deering|41.83739443|-87.64640771|    BRIDGEPORT| Thursday|   5|\n",
            "|12093529|   JD282112|2020-07-01 10:16:00|     ASSAULT|AGGRAVATED - HANDGUN|              STREET|  true|   false|2020|41.747609555|-87.549179329|(41.747609555, -8...|South Chicago|41.70793329|-87.56834912| SOUTH CHICAGO|Wednesday|  10|\n",
            "|12178140|   JD381597|2020-09-27 23:29:00|     BATTERY|              SIMPLE|RESIDENCE - PORCH...| false|   false|2020| 41.77487752|-87.671374872|(41.77487752, -87...|    Englewood|41.77963154|-87.66088702|WEST ENGLEWOOD|   Sunday|  23|\n",
            "+--------+-----------+-------------------+------------+--------------------+--------------------+------+--------+----+------------+-------------+--------------------+-------------+-----------+------------+--------------+---------+----+\n",
            "only showing top 4 rows\n",
            "\n"
          ]
        }
      ],
      "source": [
        "# Creating columns of days of the week that will be extracted from data columns\n",
        "from pyspark.sql.functions import date_format, hour\n",
        "merged_with_community_df_ = merged_with_community_df_.withColumn(\"Days\", date_format(col(\"Date\"), \"EEEE\"))\n",
        "merged_with_community_df_ = merged_with_community_df_.withColumn(\"Time\", hour(col(\"Date\")))\n",
        "merged_with_community_df_.show(4)"
      ]
    },
    {
      "cell_type": "code",
      "execution_count": null,
      "metadata": {
        "colab": {
          "base_uri": "https://localhost:8080/"
        },
        "id": "w3gMexUvIYw4",
        "outputId": "37689d44-d32f-4d09-d6c1-55301d278a71"
      },
      "outputs": [
        {
          "name": "stdout",
          "output_type": "stream",
          "text": [
            "+--------+-----------+-------------------+------------+--------------------+--------------------+------+--------+----+------------+-------------+--------------------+-------------+-----------+------------+--------------+---------+----+\n",
            "|      ID|Case Number|               Date|Primary Type|         Description|Location Description|Arrest|Domestic|Year|    Latitude|    Longitude|            Location|DISTRICT NAME|   LATITUDE|   LONGITUDE|     community|     Days|Time|\n",
            "+--------+-----------+-------------------+------------+--------------------+--------------------+------+--------+----+------------+-------------+--------------------+-------------+-----------+------------+--------------+---------+----+\n",
            "|12045583|   JD226426|2020-05-07 10:24:00|       THEFT|      $500 AND UNDER|           APARTMENT| false|   false|2020|41.830481843|-87.621751752|(41.830481843, -8...|    Wentworth|41.80181109|-87.63056018|       DOUGLAS| Thursday|  10|\n",
            "|12031001|   JD209965|2020-04-16 05:00:00|     BATTERY|              SIMPLE|           APARTMENT|  true|   false|2020|41.836310224|-87.639624112|(41.836310224, -8...|      Deering|41.83739443|-87.64640771|    BRIDGEPORT| Thursday|   5|\n",
            "|12093529|   JD282112|2020-07-01 10:16:00|     ASSAULT|AGGRAVATED - HANDGUN|              STREET|  true|   false|2020|41.747609555|-87.549179329|(41.747609555, -8...|South Chicago|41.70793329|-87.56834912| SOUTH CHICAGO|Wednesday|  10|\n",
            "|12178140|   JD381597|2020-09-27 23:29:00|     BATTERY|              SIMPLE|RESIDENCE - PORCH...| false|   false|2020| 41.77487752|-87.671374872|(41.77487752, -87...|    Englewood|41.77963154|-87.66088702|WEST ENGLEWOOD|   Sunday|  23|\n",
            "| 4144897|   HL474854|2005-07-10 15:00:00|     BATTERY|AGGRAVATED: OTHER...|              STREET| false|   false|2005|41.781002663|-87.652107119|(41.781002663, -8...|    Englewood|41.77963154|-87.66088702|     ENGLEWOOD|   Sunday|  15|\n",
            "+--------+-----------+-------------------+------------+--------------------+--------------------+------+--------+----+------------+-------------+--------------------+-------------+-----------+------------+--------------+---------+----+\n",
            "only showing top 5 rows\n",
            "\n"
          ]
        }
      ],
      "source": [
        "# Final clean dataset to be used for analysis\n",
        "final_df = merged_with_community_df_\n",
        "final_df.show(5)"
      ]
    },
    {
      "cell_type": "code",
      "execution_count": null,
      "metadata": {
        "colab": {
          "base_uri": "https://localhost:8080/"
        },
        "id": "i581-Dh2IaaO",
        "outputId": "489f28b4-9f3c-4833-9e5b-4f56ca95e7ad"
      },
      "outputs": [
        {
          "name": "stdout",
          "output_type": "stream",
          "text": [
            "+--------------------+\n",
            "|Location Description|\n",
            "+--------------------+\n",
            "|SCHOOL - PRIVATE ...|\n",
            "|AIRPORT TERMINAL ...|\n",
            "|VEHICLE - COMMERCIAL|\n",
            "|RESIDENCE - YARD ...|\n",
            "|POLICE FACILITY/V...|\n",
            "|CHA PARKING LOT /...|\n",
            "|            SIDEWALK|\n",
            "|AIRPORT TERMINAL ...|\n",
            "|OTHER RAILROAD PR...|\n",
            "|CTA GARAGE / OTHE...|\n",
            "|            CAR WASH|\n",
            "|    AIRPORT/AIRCRAFT|\n",
            "|    FEDERAL BUILDING|\n",
            "|MEDICAL/DENTAL OF...|\n",
            "|         CTA STATION|\n",
            "|SCHOOL, PUBLIC, G...|\n",
            "|SPORTS ARENA/STADIUM|\n",
            "|                FARM|\n",
            "|            CEMETARY|\n",
            "|               HOUSE|\n",
            "+--------------------+\n",
            "only showing top 20 rows\n",
            "\n"
          ]
        }
      ],
      "source": [
        "final_df.select(col(\"Location Description\")).distinct().show()\n"
      ]
    },
    {
      "cell_type": "markdown",
      "metadata": {
        "id": "4AaG_COqNZhR"
      },
      "source": [
        "**Performing some analysis**"
      ]
    },
    {
      "cell_type": "markdown",
      "metadata": {
        "id": "u1_iWOYHOZb1"
      },
      "source": [
        "***Some of the question my analysis will answer are the following***\n",
        "1. How what are the different types crime reported in Chicago and mostly reported Top 5\n",
        "2. How many crime reported in each years from 2001 to present\n",
        "3. How many crime records ended in arrest\n",
        "4. Which community with huge amount of crime reported\n",
        "5. How many crime happens in specific day of the week\n",
        "6. How many crime happens in specific hour of the day\n",
        "7. Showing which police station (District) with high rate of crime\n",
        "8. How many criminal cases are domestic or not domestic\n"
      ]
    },
    {
      "cell_type": "code",
      "execution_count": null,
      "metadata": {
        "colab": {
          "base_uri": "https://localhost:8080/"
        },
        "id": "TmD95_84OwHP",
        "outputId": "41ef7638-8e17-4493-f88f-dd58c0f7d1ac"
      },
      "outputs": [
        {
          "name": "stdout",
          "output_type": "stream",
          "text": [
            "+--------------------+-------+\n",
            "|Location Description|  count|\n",
            "+--------------------+-------+\n",
            "|              STREET|1873655|\n",
            "|           RESIDENCE|1184780|\n",
            "|           APARTMENT| 860710|\n",
            "|            SIDEWALK| 695933|\n",
            "|               OTHER| 239210|\n",
            "|PARKING LOT/GARAG...| 181867|\n",
            "|               ALLEY| 162376|\n",
            "|  SMALL RETAIL STORE| 140974|\n",
            "|SCHOOL, PUBLIC, B...| 131369|\n",
            "|    RESIDENCE-GARAGE| 122136|\n",
            "|          RESTAURANT| 120755|\n",
            "|VEHICLE NON-COMME...| 119104|\n",
            "|RESIDENCE PORCH/H...| 112258|\n",
            "|    DEPARTMENT STORE|  92252|\n",
            "|  GROCERY FOOD STORE|  88848|\n",
            "|         GAS STATION|  82196|\n",
            "|RESIDENTIAL YARD ...|  74796|\n",
            "|       PARK PROPERTY|  55086|\n",
            "|COMMERCIAL / BUSI...|  54751|\n",
            "|CHA PARKING LOT/G...|  44919|\n",
            "+--------------------+-------+\n",
            "only showing top 20 rows\n",
            "\n"
          ]
        }
      ],
      "source": [
        "final_df.groupby(\"Location Description\").count().orderBy(\"count\", ascending = False).show()"
      ]
    },
    {
      "cell_type": "code",
      "execution_count": null,
      "metadata": {
        "colab": {
          "base_uri": "https://localhost:8080/"
        },
        "id": "EZ22OopDRWKb",
        "outputId": "5e9b2700-b2ba-484f-be94-8f7483d32c51"
      },
      "outputs": [
        {
          "name": "stdout",
          "output_type": "stream",
          "text": [
            "+---------------+-------+\n",
            "|   Primary Type|  count|\n",
            "+---------------+-------+\n",
            "|          THEFT|1536657|\n",
            "|        BATTERY|1327583|\n",
            "|CRIMINAL DAMAGE| 830751|\n",
            "|      NARCOTICS| 672143|\n",
            "|        ASSAULT| 479971|\n",
            "+---------------+-------+\n",
            "only showing top 5 rows\n",
            "\n"
          ]
        }
      ],
      "source": [
        "# How what are the different types crime reported in Chicago and mostly reported Top 5\n",
        "final_df.groupby(\"Primary Type\").count().orderBy(\"count\", ascending = False).show(5)"
      ]
    },
    {
      "cell_type": "code",
      "execution_count": null,
      "metadata": {
        "colab": {
          "base_uri": "https://localhost:8080/"
        },
        "id": "ZjySaSh3RzDS",
        "outputId": "e4d36daf-2e0f-4844-a372-3afc48cd1e3c"
      },
      "outputs": [
        {
          "name": "stdout",
          "output_type": "stream",
          "text": [
            "+----+------+\n",
            "|Year| count|\n",
            "+----+------+\n",
            "|2003|471981|\n",
            "|2004|467124|\n",
            "|2005|449874|\n",
            "|2006|445500|\n",
            "|2007|435534|\n",
            "|2008|419629|\n",
            "|2009|385742|\n",
            "|2010|369772|\n",
            "|2011|351102|\n",
            "|2002|345501|\n",
            "|2012|335451|\n",
            "|2013|306405|\n",
            "|2014|273775|\n",
            "|2016|267249|\n",
            "|2017|264954|\n",
            "|2018|263533|\n",
            "|2019|259162|\n",
            "|2015|257922|\n",
            "|2022|234929|\n",
            "|2023|232878|\n",
            "|2020|207948|\n",
            "|2021|202854|\n",
            "|2001|  5750|\n",
            "+----+------+\n",
            "\n"
          ]
        }
      ],
      "source": [
        "# How many crime reported in each years from 2001 to present\n",
        "final_df.groupby(\"Year\").count().orderBy(\"count\", ascending = False).show(25)"
      ]
    },
    {
      "cell_type": "code",
      "execution_count": null,
      "metadata": {
        "colab": {
          "base_uri": "https://localhost:8080/"
        },
        "id": "xdIQN1b9W2ta",
        "outputId": "647754b4-e353-47e6-f111-d36d47768ac0"
      },
      "outputs": [
        {
          "data": {
            "text/plain": [
              "1853631"
            ]
          },
          "execution_count": 78,
          "metadata": {},
          "output_type": "execute_result"
        }
      ],
      "source": [
        "# How many crime records ended in arrest\n",
        "arrest_df = final_df.filter(col(\"Arrest\") == lit(\"true\"))\n",
        "arrest_df.count()"
      ]
    },
    {
      "cell_type": "code",
      "execution_count": null,
      "metadata": {
        "colab": {
          "base_uri": "https://localhost:8080/"
        },
        "id": "vW2OzsVOiFbr",
        "outputId": "9d1b8aae-3cd0-4d61-97ac-d8636ede749b"
      },
      "outputs": [
        {
          "data": {
            "text/plain": [
              "5400938"
            ]
          },
          "execution_count": 79,
          "metadata": {},
          "output_type": "execute_result"
        }
      ],
      "source": [
        "no_arrest_df = final_df.filter(col(\"Arrest\") == lit(\"false\"))\n",
        "no_arrest_df.count()"
      ]
    },
    {
      "cell_type": "code",
      "execution_count": null,
      "metadata": {
        "colab": {
          "base_uri": "https://localhost:8080/"
        },
        "id": "gmAbzi8pYToP",
        "outputId": "cc42f80b-47e8-471d-82cc-ed0f3ef2e764"
      },
      "outputs": [
        {
          "name": "stdout",
          "output_type": "stream",
          "text": [
            "+---------------+------+\n",
            "|      community| count|\n",
            "+---------------+------+\n",
            "|         AUSTIN|451537|\n",
            "|NEAR NORTH SIDE|256266|\n",
            "|    SOUTH SHORE|239626|\n",
            "|  HUMBOLDT PARK|225819|\n",
            "| NEAR WEST SIDE|220519|\n",
            "+---------------+------+\n",
            "only showing top 5 rows\n",
            "\n"
          ]
        }
      ],
      "source": [
        "# Which community with huge amount of crime reported (Top 5)\n",
        "final_df.groupby(\"community\").count().orderBy(\"count\", ascending = False).show(5)"
      ]
    },
    {
      "cell_type": "code",
      "execution_count": null,
      "metadata": {
        "colab": {
          "base_uri": "https://localhost:8080/"
        },
        "id": "MwXQHEB-YT_G",
        "outputId": "a8c9ff06-82c9-478a-e60c-532a8fbf91c5"
      },
      "outputs": [
        {
          "name": "stdout",
          "output_type": "stream",
          "text": [
            "+---------+-------+\n",
            "|     Days|  count|\n",
            "+---------+-------+\n",
            "|   Friday|1089325|\n",
            "|Wednesday|1042317|\n",
            "| Saturday|1040474|\n",
            "|  Tuesday|1035652|\n",
            "| Thursday|1030941|\n",
            "|   Monday|1024279|\n",
            "|   Sunday| 991581|\n",
            "+---------+-------+\n",
            "\n"
          ]
        }
      ],
      "source": [
        "# How many crime happens in specific day of the week\n",
        "final_df.groupby(\"Days\").count().orderBy(\"count\", ascending = False).show()"
      ]
    },
    {
      "cell_type": "code",
      "execution_count": null,
      "metadata": {
        "colab": {
          "base_uri": "https://localhost:8080/"
        },
        "id": "1ioRwhvFYUc9",
        "outputId": "da4f54ed-f28a-475e-99a0-58823243633f"
      },
      "outputs": [
        {
          "name": "stdout",
          "output_type": "stream",
          "text": [
            "+----+------+\n",
            "|Time| count|\n",
            "+----+------+\n",
            "|  12|414455|\n",
            "|   0|410350|\n",
            "|  19|408134|\n",
            "|  20|405776|\n",
            "|  18|395658|\n",
            "|  21|393442|\n",
            "|  15|387239|\n",
            "|  22|386961|\n",
            "|  17|373123|\n",
            "|  16|367292|\n",
            "|  14|365124|\n",
            "|  13|343756|\n",
            "|  23|322791|\n",
            "|  11|321941|\n",
            "|   9|312073|\n",
            "|  10|306922|\n",
            "|   8|245674|\n",
            "|   1|231169|\n",
            "|   2|195573|\n",
            "|   7|167813|\n",
            "|   3|158770|\n",
            "|   4|120953|\n",
            "|   6|118151|\n",
            "|   5|101429|\n",
            "+----+------+\n",
            "\n"
          ]
        }
      ],
      "source": [
        "# How many crime happens in specific hour of the day\n",
        "final_df.groupby(\"Time\").count().orderBy(\"count\", ascending = False).show(24)"
      ]
    },
    {
      "cell_type": "code",
      "execution_count": null,
      "metadata": {
        "colab": {
          "base_uri": "https://localhost:8080/"
        },
        "id": "nxAxdveiYUst",
        "outputId": "abb036fd-a933-44ad-a3f5-009cb76175bd"
      },
      "outputs": [
        {
          "name": "stdout",
          "output_type": "stream",
          "text": [
            "+--------------+------+\n",
            "| DISTRICT NAME| count|\n",
            "+--------------+------+\n",
            "|  Chicago Lawn|489660|\n",
            "|      Harrison|466090|\n",
            "|       Gresham|428858|\n",
            "|     Englewood|419406|\n",
            "| South Chicago|415750|\n",
            "| Grand Central|411851|\n",
            "|Grand Crossing|369012|\n",
            "|     Near West|359185|\n",
            "|       Deering|353302|\n",
            "|     Wentworth|330246|\n",
            "|     Town Hall|325134|\n",
            "|    Near North|324812|\n",
            "|       Calumet|322574|\n",
            "|         Ogden|314322|\n",
            "|        Austin|309864|\n",
            "|       Central|299675|\n",
            "|   Shakespeare|275481|\n",
            "|Jefferson Park|245243|\n",
            "|   Morgan Park|238726|\n",
            "|   Rogers Park|219319|\n",
            "|   Albany Park|208899|\n",
            "|       Lincoln|127160|\n",
            "+--------------+------+\n",
            "\n"
          ]
        }
      ],
      "source": [
        "# Showing which police station (District) with high rate of crime (Top 5)\n",
        "final_df.groupby(\"district_name\").count().orderBy(\n",
        "    \"count\", ascending=False).show(24)"
      ]
    },
    {
      "cell_type": "code",
      "execution_count": null,
      "metadata": {
        "colab": {
          "base_uri": "https://localhost:8080/"
        },
        "id": "ys0jL2QZqPFB",
        "outputId": "fb254d16-370f-4231-fd45-7541bfe06fcd"
      },
      "outputs": [
        {
          "name": "stdout",
          "output_type": "stream",
          "text": [
            "+--------+-------+\n",
            "|Domestic|  count|\n",
            "+--------+-------+\n",
            "|   false|5999260|\n",
            "|    true|1255309|\n",
            "+--------+-------+\n",
            "\n"
          ]
        }
      ],
      "source": [
        "# How many criminal cases are domestic or not domestic\n",
        "final_df.groupby(\"Domestic\").count().orderBy(\"count\", ascending = False).show()"
      ]
    },
    {
      "cell_type": "markdown",
      "metadata": {
        "id": "De3HFPXRCzxW"
      },
      "source": [
        "Connecting to AWS RDS with pyspark to create tables and save tables that will be used for dashoboard in tableau or PowerBI"
      ]
    },
    {
      "cell_type": "code",
      "execution_count": null,
      "metadata": {
        "id": "oHl60VCz7DLQ"
      },
      "outputs": [],
      "source": [
        "# changing the naming convention of columns before loading the data"
      ]
    },
    {
      "cell_type": "code",
      "execution_count": null,
      "metadata": {
        "id": "JmN1wsw-Zlsw"
      },
      "outputs": [],
      "source": [
        "jdbc_url = \"jdbc:mysql://final-project.chjk3p9snnd4.us-east-1.rds.amazonaws.com:3306/final_project\"\n",
        "properties = {\n",
        "    \"user\": \"patty\",\n",
        "    \"password\": \"Patty123\",  \n",
        "    \"driver\": \"com.mysql.jdbc.Driver\"\n",
        "}\n"
      ]
    },
    {
      "cell_type": "code",
      "execution_count": null,
      "metadata": {
        "colab": {
          "base_uri": "https://localhost:8080/"
        },
        "id": "slfFEt7wpsKM",
        "outputId": "2e9763b9-f1bc-412c-af0e-50a93ae7d52e"
      },
      "outputs": [
        {
          "name": "stdout",
          "output_type": "stream",
          "text": [
            "+----------+---------+\n",
            "|area_numbe|community|\n",
            "+----------+---------+\n",
            "|        35|  DOUGLAS|\n",
            "+----------+---------+\n",
            "only showing top 1 row\n",
            "\n"
          ]
        }
      ],
      "source": [
        "community_table.show(1)"
      ]
    },
    {
      "cell_type": "code",
      "execution_count": null,
      "metadata": {},
      "outputs": [],
      "source": [
        "# Loading community dataframe to RDS\n",
        "community_table.write.jdbc(url=jdbc_url, table=\"community_table\", mode=\"overwrite\", properties=properties)"
      ]
    },
    {
      "cell_type": "code",
      "execution_count": null,
      "metadata": {
        "id": "pmatXSDcp0iJ"
      },
      "outputs": [],
      "source": [
        "# Loading Police District Dataframe to RDS\n",
        "# police_table.show(1)"
      ]
    },
    {
      "cell_type": "code",
      "execution_count": null,
      "metadata": {
        "id": "pRpFXY9kp4Wk"
      },
      "outputs": [],
      "source": [
        "# police_table.printSchema()"
      ]
    },
    {
      "cell_type": "code",
      "execution_count": null,
      "metadata": {
        "id": "McthIFMKp-RZ"
      },
      "outputs": [],
      "source": [
        "police_table.write.jdbc(url=jdbc_url, table=\"police_table\", mode=\"overwrite\", properties=properties)"
      ]
    },
    {
      "cell_type": "code",
      "execution_count": null,
      "metadata": {
        "id": "dmk5IEkPV_-3"
      },
      "outputs": [],
      "source": [
        "# Loading Crime dataframe to RDS\n",
        "crime_table.show(2)"
      ]
    },
    {
      "cell_type": "code",
      "execution_count": null,
      "metadata": {
        "id": "LdmzFtUZWCkg"
      },
      "outputs": [],
      "source": [
        "crime_table_ = crime_table\\\n",
        ".withColumnRenamed(\"Case Number\", \"Case_Number\")\\\n",
        ".withColumnRenamed(\"Primary Type\", \"Primary_Type\")\\\n",
        ".withColumnRenamed(\"Location Description\", \"Location_Description\")\\\n",
        "# .withColumnRenamed(\"Community Area\", \"Community_Area\")\n",
        "\n",
        "crime_table_.show(2)"
      ]
    },
    {
      "cell_type": "code",
      "execution_count": null,
      "metadata": {
        "id": "5KjBvFaGXW7x"
      },
      "outputs": [],
      "source": [
        "crime_table_.printSchema()"
      ]
    },
    {
      "cell_type": "code",
      "execution_count": null,
      "metadata": {
        "id": "1nMv1ydZZA_P"
      },
      "outputs": [],
      "source": [
        "crime_table_.show(2)"
      ]
    },
    {
      "cell_type": "code",
      "execution_count": null,
      "metadata": {
        "id": "yseBmeqzqfdI"
      },
      "outputs": [],
      "source": [
        "# Write crime table to the aws RDS (First bunch)\n",
        "# crime_data_for_2001_to_2006 = crime_table_.filter((crime_table_['year'] >= 2001) & (crime_table_['year'] <= 2006))"
      ]
    },
    {
      "cell_type": "code",
      "execution_count": null,
      "metadata": {
        "id": "zG7oNZ-LZNKX"
      },
      "outputs": [],
      "source": [
        "# Loop through the years and load data in batches (# Write crime table to the aws RDS)\n",
        "for year in range(2001, 2024):\n",
        "    crime_data_for_year = crime_table_.filter((crime_table_['Year'] == year))\n",
        "    crime_data_for_year.write.jdbc(\n",
        "        url=jdbc_url, table=\"crime_cases\", mode=\"append\", properties=properties)"
      ]
    }
  ],
  "metadata": {
    "colab": {
      "provenance": []
    },
    "kernelspec": {
      "display_name": "Python 3",
      "name": "python3"
    },
    "language_info": {
      "name": "python"
    }
  },
  "nbformat": 4,
  "nbformat_minor": 0
}
